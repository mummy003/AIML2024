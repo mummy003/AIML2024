{
  "nbformat": 4,
  "nbformat_minor": 0,
  "metadata": {
    "colab": {
      "provenance": []
    },
    "kernelspec": {
      "name": "python3",
      "display_name": "Python 3"
    },
    "language_info": {
      "name": "python"
    }
  },
  "cells": [
    {
      "cell_type": "code",
      "source": [
        "import pandas as pd\n",
        "from sklearn.model_selection import train_test_split\n",
        "from sklearn.svm import SVC\n",
        "\n",
        "from sklearn.ensemble import RandomForestClassifier\n",
        "from sklearn.metrics import accuracy_score, precision_score, recall_score, f1_score\n",
        "\n",
        "\n",
        "dataset_path = 'path/to/dataset.csv'\n",
        "df = pd.read_csv('/content/breast_cancer_survival.csv')\n",
        "\n",
        "\n",
        "df['Gender'] = df['Gender'].map({'MALE': 0, 'FEMALE':1})\n",
        "df['Tumour_Stage']=df['Tumour_Stage'].map({'I':1,'II':2,'III':3})\n",
        "df['Patient_Status']=df['Patient_Status'].map({'Alive':1,'Dead':0})\n",
        "\n",
        "print(df)\n",
        "df=df.drop('Histology',axis=1)\n",
        "df=df.drop('ER status',axis=1)\n",
        "df=df.drop('PR status',axis=1)\n",
        "df=df.drop('HER2 status',axis=1)\n",
        "df=df.drop('Surgery_type',axis=1)\n",
        "df=df.drop('Date_of_Surgery',axis=1)\n",
        "df=df.drop('Date_of_Last_Visit',axis=1)\n",
        "df=df.fillna(0)\n",
        "X = df.drop('Patient_Status', axis=1)\n",
        "y = df['Patient_Status']\n",
        "\n",
        "# Split the dataset into training and testing sets\n",
        "X_train, X_test, y_train, y_test = train_test_split(X, y, test_size=0.2, random_state=42)\n",
        "\n",
        "# Standardize features\n",
        "scaler = StandardScaler()\n",
        "X_train_scaled = scaler.fit_transform(X_train)\n",
        "X_test_scaled = scaler.transform(X_test)\n",
        "\n",
        "# SVM Classifier\n",
        "svm_model = SVC(kernel='linear')\n",
        "svm_model.fit(X_train_scaled, y_train)\n",
        "svm_predictions = svm_model.predict(X_test_scaled)\n",
        "svm_accuracy = accuracy_score(y_test, svm_predictions)\n",
        "print(f'SVM Accuracy: {svm_accuracy}')\n",
        "\n",
        "# Random Forest Classifier\n",
        "rf_model = RandomForestClassifier(n_estimators=100, random_state=42)\n",
        "rf_model.fit(X_train, y_train)  # No need to scale data for Random Forest\n",
        "rf_predictions = rf_model.predict(X_test)\n",
        "rf_accuracy = accuracy_score(y_test, rf_predictions)\n",
        "print(f'Random Forest Accuracy: {rf_accuracy}')\n",
        "print(X)\n"
      ],
      "metadata": {
        "colab": {
          "base_uri": "https://localhost:8080/"
        },
        "id": "kNh2JawgRLvM",
        "outputId": "e335ec57-7382-4634-e8e9-8a70f35581d1"
      },
      "execution_count": 22,
      "outputs": [
        {
          "output_type": "stream",
          "name": "stdout",
          "text": [
            "     Age  Gender  Protein1  Protein2  Protein3  Protein4  Tumour_Stage  \\\n",
            "0     42       1  0.952560   2.15000  0.007972 -0.048340             2   \n",
            "1     54       1  0.000000   1.38020 -0.498030 -0.507320             2   \n",
            "2     63       1 -0.523030   1.76400 -0.370190  0.010815             2   \n",
            "3     78       1 -0.876180   0.12943 -0.370380  0.132190             1   \n",
            "4     42       1  0.226110   1.74910 -0.543970 -0.390210             2   \n",
            "..   ...     ...       ...       ...       ...       ...           ...   \n",
            "329   59       1  0.024598   1.40050  0.024751  0.280320             2   \n",
            "330   41       1  0.100120  -0.46547  0.472370 -0.523870             1   \n",
            "331   54       1  0.753820   1.64250 -0.332850  0.857860             2   \n",
            "332   74       1  0.972510   1.42680 -0.366570 -0.107820             2   \n",
            "333   66       1  0.286380   1.39980  0.318830  0.836050             2   \n",
            "\n",
            "                          Histology ER status PR status HER2 status  \\\n",
            "0     Infiltrating Ductal Carcinoma  Positive  Positive    Negative   \n",
            "1     Infiltrating Ductal Carcinoma  Positive  Positive    Negative   \n",
            "2     Infiltrating Ductal Carcinoma  Positive  Positive    Negative   \n",
            "3     Infiltrating Ductal Carcinoma  Positive  Positive    Negative   \n",
            "4     Infiltrating Ductal Carcinoma  Positive  Positive    Positive   \n",
            "..                              ...       ...       ...         ...   \n",
            "329   Infiltrating Ductal Carcinoma  Positive  Positive    Positive   \n",
            "330   Infiltrating Ductal Carcinoma  Positive  Positive    Positive   \n",
            "331   Infiltrating Ductal Carcinoma  Positive  Positive    Negative   \n",
            "332  Infiltrating Lobular Carcinoma  Positive  Positive    Negative   \n",
            "333   Infiltrating Ductal Carcinoma  Positive  Positive    Negative   \n",
            "\n",
            "                    Surgery_type Date_of_Surgery Date_of_Last_Visit  \\\n",
            "0                          Other       20-May-18          26-Aug-18   \n",
            "1                          Other       26-Apr-18          25-Jan-19   \n",
            "2                     Lumpectomy       24-Aug-18          08-Apr-20   \n",
            "3                          Other       16-Nov-18          28-Jul-20   \n",
            "4                     Lumpectomy       12-Dec-18          05-Jan-19   \n",
            "..                           ...             ...                ...   \n",
            "329                   Lumpectomy       15-Jan-19          27-Mar-20   \n",
            "330  Modified Radical Mastectomy       25-Jul-18          23-Apr-19   \n",
            "331            Simple Mastectomy       26-Mar-19          11-Oct-19   \n",
            "332                   Lumpectomy       26-Nov-18          05-Dec-18   \n",
            "333  Modified Radical Mastectomy       04-Feb-19          10-Aug-19   \n",
            "\n",
            "     Patient_Status  \n",
            "0               1.0  \n",
            "1               0.0  \n",
            "2               1.0  \n",
            "3               1.0  \n",
            "4               1.0  \n",
            "..              ...  \n",
            "329             1.0  \n",
            "330             1.0  \n",
            "331             0.0  \n",
            "332             1.0  \n",
            "333             0.0  \n",
            "\n",
            "[334 rows x 15 columns]\n",
            "SVM Accuracy: 0.7761194029850746\n",
            "Random Forest Accuracy: 0.7761194029850746\n",
            "     Age  Gender  Protein1  Protein2  Protein3  Protein4  Tumour_Stage\n",
            "0     42       1  0.952560   2.15000  0.007972 -0.048340             2\n",
            "1     54       1  0.000000   1.38020 -0.498030 -0.507320             2\n",
            "2     63       1 -0.523030   1.76400 -0.370190  0.010815             2\n",
            "3     78       1 -0.876180   0.12943 -0.370380  0.132190             1\n",
            "4     42       1  0.226110   1.74910 -0.543970 -0.390210             2\n",
            "..   ...     ...       ...       ...       ...       ...           ...\n",
            "329   59       1  0.024598   1.40050  0.024751  0.280320             2\n",
            "330   41       1  0.100120  -0.46547  0.472370 -0.523870             1\n",
            "331   54       1  0.753820   1.64250 -0.332850  0.857860             2\n",
            "332   74       1  0.972510   1.42680 -0.366570 -0.107820             2\n",
            "333   66       1  0.286380   1.39980  0.318830  0.836050             2\n",
            "\n",
            "[334 rows x 7 columns]\n"
          ]
        }
      ]
    },
    {
      "cell_type": "code",
      "source": [
        "import pandas as pd\n",
        "from sklearn.model_selection import train_test_split\n",
        "from sklearn.preprocessing import LabelEncoder, StandardScaler\n",
        "\n",
        "from sklearn.metrics import accuracy_score, precision_score, recall_score, f1_score\n",
        "\n",
        "def calculate_metrics(y_true, y_pred, model_name):\n",
        "    accuracy = accuracy_score(y_true, y_pred)\n",
        "    precision = precision_score(y_true, y_pred, average='weighted')\n",
        "    recall = recall_score(y_true, y_pred, average='weighted')\n",
        "    f1 = f1_score(y_true, y_pred, average='weighted')\n",
        "    print(f\"{model_name} Metrics:\")\n",
        "    print(f\"Accuracy: {accuracy}\")\n",
        "    print(f\"Precision: {precision}\")\n",
        "    print(f\"Recall: {recall}\")\n",
        "    print(f\"F1-Score: {f1}\\n\")\n",
        "\n",
        "# Calculate and print metrics for SVM\n",
        "calculate_metrics(y_test, svm_predictions, \"SVM\")\n",
        "\n",
        "# Calculate and print metrics for Random Forest\n",
        "calculate_metrics(y_test, rf_predictions, \"Random Forest\")"
      ],
      "metadata": {
        "colab": {
          "base_uri": "https://localhost:8080/"
        },
        "id": "Nabn55CZcNsq",
        "outputId": "5c7a8e60-82e8-4d55-e358-63526e66a163"
      },
      "execution_count": 20,
      "outputs": [
        {
          "output_type": "stream",
          "name": "stdout",
          "text": [
            "SVM Metrics:\n",
            "Accuracy: 0.7761194029850746\n",
            "Precision: 0.6023613276899087\n",
            "Recall: 0.7761194029850746\n",
            "F1-Score: 0.6782892261382165\n",
            "\n",
            "Random Forest Metrics:\n",
            "Accuracy: 0.7761194029850746\n",
            "Precision: 0.7208955223880597\n",
            "Recall: 0.7761194029850746\n",
            "F1-Score: 0.7029558091893473\n",
            "\n"
          ]
        },
        {
          "output_type": "stream",
          "name": "stderr",
          "text": [
            "/usr/local/lib/python3.10/dist-packages/sklearn/metrics/_classification.py:1344: UndefinedMetricWarning: Precision is ill-defined and being set to 0.0 in labels with no predicted samples. Use `zero_division` parameter to control this behavior.\n",
            "  _warn_prf(average, modifier, msg_start, len(result))\n"
          ]
        }
      ]
    }
  ]
}