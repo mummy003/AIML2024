{
  "nbformat": 4,
  "nbformat_minor": 0,
  "metadata": {
    "colab": {
      "provenance": []
    },
    "kernelspec": {
      "name": "python3",
      "display_name": "Python 3"
    },
    "language_info": {
      "name": "python"
    }
  },
  "cells": [
    {
      "cell_type": "code",
      "source": [
        "import pandas as pd\n",
        "from sklearn.model_selection import train_test_split\n",
        "data = pd.read_csv('/content/train.csv')\n",
        "train_data, valid_data = train_test_split(data, test_size=0.2, random_state=42)\n",
        "print(\"Training Data:\")\n",
        "print(train_data.head())\n",
        "print(\"\\nValidation Data:\")\n",
        "print(valid_data.head())\n",
        "train_features = train_data.drop('price_range', axis=1)\n",
        "train_target = train_data['price_range']\n",
        "print(\"\\nTraining Features:\")\n",
        "print(train_features.head())\n",
        "print(\"\\nTraining Target:\")\n",
        "print(train_target.head())\n",
        "valid_features = valid_data.drop('price_range', axis=1)\n",
        "valid_target = valid_data['price_range']\n",
        "print(\"\\nValidation Features:\")\n",
        "print(valid_features.head())\n",
        "print(\"\\nValidation Target:\")\n",
        "print(valid_target.head())"
      ],
      "metadata": {
        "colab": {
          "base_uri": "https://localhost:8080/"
        },
        "id": "e_Xg4mlhHyvN",
        "outputId": "47ba680e-602b-459c-cf9d-5b26f4be39ec"
      },
      "execution_count": 2,
      "outputs": [
        {
          "output_type": "stream",
          "name": "stdout",
          "text": [
            "Training Data:\n",
            "     battery_power  blue  clock_speed  dual_sim  fc  four_g  int_memory  \\\n",
            "968           1923     0          0.5         1   7       0          46   \n",
            "240            633     1          2.2         0   0       1          49   \n",
            "819           1236     0          0.9         1   2       1          57   \n",
            "692            781     0          1.1         0   2       0          38   \n",
            "420           1456     1          0.5         1   7       0           7   \n",
            "\n",
            "     m_dep  mobile_wt  n_cores  ...  px_height  px_width   ram  sc_h  sc_w  \\\n",
            "968    0.5        191        1  ...        767      1759  1489    10     9   \n",
            "240    0.1        139        8  ...        529      1009  3560    11     1   \n",
            "819    0.1        188        1  ...        517       809  1406    14    12   \n",
            "692    0.4        198        5  ...        304      1674  3508    13     8   \n",
            "420    0.4        105        5  ...        823      1104  1587     6     5   \n",
            "\n",
            "     talk_time  three_g  touch_screen  wifi  price_range  \n",
            "968          3        1             1     1            1  \n",
            "240         16        1             1     1            2  \n",
            "819         20        1             0     1            0  \n",
            "692          5        0             0     1            3  \n",
            "420         20        1             0     1            1  \n",
            "\n",
            "[5 rows x 21 columns]\n",
            "\n",
            "Validation Data:\n",
            "      battery_power  blue  clock_speed  dual_sim  fc  four_g  int_memory  \\\n",
            "1860           1646     0          2.5         0   3       1          25   \n",
            "353            1182     0          0.5         0   7       1           8   \n",
            "1333           1972     0          2.9         0   9       0          14   \n",
            "905             989     1          2.0         0   4       0          17   \n",
            "1289            615     1          0.5         1   7       0          58   \n",
            "\n",
            "      m_dep  mobile_wt  n_cores  ...  px_height  px_width   ram  sc_h  sc_w  \\\n",
            "1860    0.6        200        2  ...        211      1608   686     8     6   \n",
            "353     0.5        138        8  ...        275       986  2563    19    17   \n",
            "1333    0.4        196        7  ...        293       952  1316     8     1   \n",
            "905     0.2        166        3  ...        256      1394  3892    18     7   \n",
            "1289    0.5        130        5  ...       1021      1958  1906    14     5   \n",
            "\n",
            "      talk_time  three_g  touch_screen  wifi  price_range  \n",
            "1860         11        1             1     0            0  \n",
            "353          19        1             0     0            2  \n",
            "1333          8        1             1     0            1  \n",
            "905          19        1             1     0            3  \n",
            "1289          5        1             0     0            1  \n",
            "\n",
            "[5 rows x 21 columns]\n",
            "\n",
            "Training Features:\n",
            "     battery_power  blue  clock_speed  dual_sim  fc  four_g  int_memory  \\\n",
            "968           1923     0          0.5         1   7       0          46   \n",
            "240            633     1          2.2         0   0       1          49   \n",
            "819           1236     0          0.9         1   2       1          57   \n",
            "692            781     0          1.1         0   2       0          38   \n",
            "420           1456     1          0.5         1   7       0           7   \n",
            "\n",
            "     m_dep  mobile_wt  n_cores  pc  px_height  px_width   ram  sc_h  sc_w  \\\n",
            "968    0.5        191        1  10        767      1759  1489    10     9   \n",
            "240    0.1        139        8   1        529      1009  3560    11     1   \n",
            "819    0.1        188        1  14        517       809  1406    14    12   \n",
            "692    0.4        198        5   7        304      1674  3508    13     8   \n",
            "420    0.4        105        5  12        823      1104  1587     6     5   \n",
            "\n",
            "     talk_time  three_g  touch_screen  wifi  \n",
            "968          3        1             1     1  \n",
            "240         16        1             1     1  \n",
            "819         20        1             0     1  \n",
            "692          5        0             0     1  \n",
            "420         20        1             0     1  \n",
            "\n",
            "Training Target:\n",
            "968    1\n",
            "240    2\n",
            "819    0\n",
            "692    3\n",
            "420    1\n",
            "Name: price_range, dtype: int64\n",
            "\n",
            "Validation Features:\n",
            "      battery_power  blue  clock_speed  dual_sim  fc  four_g  int_memory  \\\n",
            "1860           1646     0          2.5         0   3       1          25   \n",
            "353            1182     0          0.5         0   7       1           8   \n",
            "1333           1972     0          2.9         0   9       0          14   \n",
            "905             989     1          2.0         0   4       0          17   \n",
            "1289            615     1          0.5         1   7       0          58   \n",
            "\n",
            "      m_dep  mobile_wt  n_cores  pc  px_height  px_width   ram  sc_h  sc_w  \\\n",
            "1860    0.6        200        2   5        211      1608   686     8     6   \n",
            "353     0.5        138        8  16        275       986  2563    19    17   \n",
            "1333    0.4        196        7  18        293       952  1316     8     1   \n",
            "905     0.2        166        3  19        256      1394  3892    18     7   \n",
            "1289    0.5        130        5   8       1021      1958  1906    14     5   \n",
            "\n",
            "      talk_time  three_g  touch_screen  wifi  \n",
            "1860         11        1             1     0  \n",
            "353          19        1             0     0  \n",
            "1333          8        1             1     0  \n",
            "905          19        1             1     0  \n",
            "1289          5        1             0     0  \n",
            "\n",
            "Validation Target:\n",
            "1860    0\n",
            "353     2\n",
            "1333    1\n",
            "905     3\n",
            "1289    1\n",
            "Name: price_range, dtype: int64\n"
          ]
        }
      ]
    },
    {
      "cell_type": "code",
      "source": [
        "from sklearn.preprocessing import MinMaxScaler\n",
        "scaler = MinMaxScaler()\n",
        "train_features_normalized = scaler.fit_transform(train_features)\n",
        "valid_features_normalized = scaler.transform(valid_features)\n",
        "print(\"Normalized Training Features:\")\n",
        "print(train_features_normalized[:5])\n",
        "print(\"\\nNormalized Validation Features:\")\n",
        "print(valid_features_normalized[:5])"
      ],
      "metadata": {
        "colab": {
          "base_uri": "https://localhost:8080/"
        },
        "id": "ZYoG2QF9JY-B",
        "outputId": "fb007471-717e-49a4-ab6d-fa66fadfbca9"
      },
      "execution_count": 3,
      "outputs": [
        {
          "output_type": "stream",
          "name": "stdout",
          "text": [
            "Normalized Training Features:\n",
            "[[0.9498998  0.         0.         1.         0.36842105 0.\n",
            "  0.70967742 0.44444444 0.925      0.         0.5        0.39132653\n",
            "  0.84045394 0.32914439 0.35714286 0.5        0.05555556 1.\n",
            "  1.         1.        ]\n",
            " [0.08817635 1.         0.68       0.         0.         1.\n",
            "  0.75806452 0.         0.49166667 1.         0.05       0.26989796\n",
            "  0.33978638 0.8828877  0.42857143 0.05555556 0.77777778 1.\n",
            "  1.         1.        ]\n",
            " [0.49098196 0.         0.16       1.         0.10526316 1.\n",
            "  0.88709677 0.         0.9        0.         0.7        0.26377551\n",
            "  0.20627503 0.30695187 0.64285714 0.66666667 1.         1.\n",
            "  0.         1.        ]\n",
            " [0.18704075 0.         0.24       0.         0.10526316 0.\n",
            "  0.58064516 0.33333333 0.98333333 0.57142857 0.35       0.15510204\n",
            "  0.78371162 0.86898396 0.57142857 0.44444444 0.16666667 0.\n",
            "  0.         1.        ]\n",
            " [0.63794255 1.         0.         1.         0.36842105 0.\n",
            "  0.08064516 0.33333333 0.20833333 0.57142857 0.6        0.41989796\n",
            "  0.40320427 0.35534759 0.07142857 0.27777778 1.         1.\n",
            "  0.         1.        ]]\n",
            "\n",
            "Normalized Validation Features:\n",
            "[[0.76486306 0.         0.8        0.         0.15789474 1.\n",
            "  0.37096774 0.55555556 1.         0.14285714 0.25       0.10765306\n",
            "  0.73965287 0.1144385  0.21428571 0.33333333 0.5        1.\n",
            "  1.         0.        ]\n",
            " [0.45490982 0.         0.         0.         0.36842105 1.\n",
            "  0.09677419 0.44444444 0.48333333 1.         0.8        0.14030612\n",
            "  0.32443258 0.61631016 1.         0.94444444 0.94444444 1.\n",
            "  0.         0.        ]\n",
            " [0.98263193 0.         0.96       0.         0.47368421 0.\n",
            "  0.19354839 0.33333333 0.96666667 0.85714286 0.9        0.1494898\n",
            "  0.30173565 0.2828877  0.21428571 0.05555556 0.33333333 1.\n",
            "  1.         0.        ]\n",
            " [0.3259853  1.         0.6        0.         0.21052632 0.\n",
            "  0.24193548 0.11111111 0.71666667 0.28571429 0.95       0.13061224\n",
            "  0.59679573 0.97165775 0.92857143 0.38888889 0.94444444 1.\n",
            "  1.         0.        ]\n",
            " [0.0761523  1.         0.         1.         0.36842105 0.\n",
            "  0.90322581 0.44444444 0.41666667 0.57142857 0.4        0.52091837\n",
            "  0.97329773 0.44064171 0.64285714 0.27777778 0.16666667 1.\n",
            "  0.         0.        ]]\n"
          ]
        }
      ]
    },
    {
      "cell_type": "code",
      "source": [
        "from sklearn.model_selection import train_test_split\n",
        "X = data.drop('price_range', axis=1)\n",
        "y = data['price_range']\n",
        "X_train, X_test, y_train, y_test = train_test_split(X, y, test_size=0.2, random_state=42)\n",
        "print(\"Train set shape:\", X_train.shape, y_train.shape)\n",
        "print(\"Test set shape:\", X_test.shape, y_test.shape)"
      ],
      "metadata": {
        "colab": {
          "base_uri": "https://localhost:8080/"
        },
        "id": "l5xrxuXzJqc7",
        "outputId": "be40a0d5-f220-4614-9629-06665fcde7d3"
      },
      "execution_count": 5,
      "outputs": [
        {
          "output_type": "stream",
          "name": "stdout",
          "text": [
            "Train set shape: (1600, 20) (1600,)\n",
            "Test set shape: (400, 20) (400,)\n"
          ]
        }
      ]
    },
    {
      "cell_type": "code",
      "source": [
        "import pandas as pd\n",
        "from sklearn.model_selection import train_test_split\n",
        "from sklearn.linear_model import LogisticRegression\n",
        "from sklearn.metrics import accuracy_score, precision_score, recall_score, confusion_matrix\n",
        "data = pd.read_csv('/content/train.csv')\n",
        "features = data.drop('price_range', axis=1)\n",
        "target = data['price_range']\n",
        "X_train, X_test, y_train, y_test = train_test_split(features, target, test_size=0.2, random_state=42)\n",
        "model = LogisticRegression()\n",
        "model.fit(X_train, y_train)\n",
        "y_pred = model.predict(X_test)\n",
        "accuracy = accuracy_score(y_test, y_pred)\n",
        "precision = precision_score(y_test, y_pred, average='weighted')\n",
        "recall = recall_score(y_test, y_pred, average='weighted')\n",
        "conf_matrix = confusion_matrix(y_test, y_pred)\n",
        "\n",
        "print(\"Accuracy:\", accuracy)\n",
        "print(\"Precision:\", precision)\n",
        "print(\"Recall:\", recall)\n",
        "print(\"Confusion Matrix:\\n\", conf_matrix)"
      ],
      "metadata": {
        "colab": {
          "base_uri": "https://localhost:8080/"
        },
        "id": "pZQUbMuJNr76",
        "outputId": "ce8b0367-1e51-4ccc-c8c7-0af8a37c0ce4"
      },
      "execution_count": 7,
      "outputs": [
        {
          "output_type": "stream",
          "name": "stdout",
          "text": [
            "Accuracy: 0.6325\n",
            "Precision: 0.6367494044668429\n",
            "Recall: 0.6325\n",
            "Confusion Matrix:\n",
            " [[79 25  1  0]\n",
            " [17 46 20  8]\n",
            " [ 0 17 46 29]\n",
            " [ 0  1 29 82]]\n"
          ]
        },
        {
          "output_type": "stream",
          "name": "stderr",
          "text": [
            "/usr/local/lib/python3.10/dist-packages/sklearn/linear_model/_logistic.py:458: ConvergenceWarning: lbfgs failed to converge (status=1):\n",
            "STOP: TOTAL NO. of ITERATIONS REACHED LIMIT.\n",
            "\n",
            "Increase the number of iterations (max_iter) or scale the data as shown in:\n",
            "    https://scikit-learn.org/stable/modules/preprocessing.html\n",
            "Please also refer to the documentation for alternative solver options:\n",
            "    https://scikit-learn.org/stable/modules/linear_model.html#logistic-regression\n",
            "  n_iter_i = _check_optimize_result(\n"
          ]
        }
      ]
    }
  ]
}