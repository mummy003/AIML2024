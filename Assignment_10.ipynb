{
  "nbformat": 4,
  "nbformat_minor": 0,
  "metadata": {
    "colab": {
      "provenance": []
    },
    "kernelspec": {
      "name": "python3",
      "display_name": "Python 3"
    },
    "language_info": {
      "name": "python"
    }
  },
  "cells": [
    {
      "cell_type": "code",
      "source": [
        "import pandas as pd\n",
        "from sklearn.model_selection import train_test_split\n",
        "from sklearn.svm import SVC\n",
        "\n",
        "from sklearn.ensemble import RandomForestClassifier\n",
        "from sklearn.metrics import accuracy_score, precision_score, recall_score, f1_score\n",
        "\n",
        "\n",
        "dataset_path = 'path/to/dataset.csv'\n",
        "df = pd.read_csv('/content/breast_cancer_survival.csv')\n",
        "\n",
        "\n",
        "df['Gender'] = df['Gender'].map({'MALE': 0, 'FEMALE':1})\n",
        "df['Tumour_Stage']=df['Tumour_Stage'].map({'I':1,'II':2,'III':3})\n",
        "df['Patient_Status']=df['Patient_Status'].map({'Alive':1,'Dead':0})\n",
        "\n",
        "print(df)\n",
        "df=df.drop('Histology',axis=1)\n",
        "df=df.drop('ER status',axis=1)\n",
        "df=df.drop('PR status',axis=1)\n",
        "df=df.drop('HER2 status',axis=1)\n",
        "df=df.drop('Surgery_type',axis=1)\n",
        "df=df.drop('Date_of_Surgery',axis=1)\n",
        "df=df.drop('Date_of_Last_Visit',axis=1)\n",
        "df=df.fillna(0)\n",
        "X = df.drop('Patient_Status', axis=1)\n",
        "y = df['Patient_Status']\n",
        "\n",
        "# Split the dataset into training and testing sets\n",
        "X_train, X_test, y_train, y_test = train_test_split(X, y, test_size=0.2, random_state=42)\n"
      ],
      "metadata": {
        "colab": {
          "base_uri": "https://localhost:8080/"
        },
        "id": "3SkroUWZcaHu",
        "outputId": "699f0046-31ea-407b-871e-7f36cc645b06"
      },
      "execution_count": 36,
      "outputs": [
        {
          "output_type": "stream",
          "name": "stdout",
          "text": [
            "     Age  Gender  Protein1  Protein2  Protein3  Protein4  Tumour_Stage  \\\n",
            "0     42       1  0.952560   2.15000  0.007972 -0.048340             2   \n",
            "1     54       1  0.000000   1.38020 -0.498030 -0.507320             2   \n",
            "2     63       1 -0.523030   1.76400 -0.370190  0.010815             2   \n",
            "3     78       1 -0.876180   0.12943 -0.370380  0.132190             1   \n",
            "4     42       1  0.226110   1.74910 -0.543970 -0.390210             2   \n",
            "..   ...     ...       ...       ...       ...       ...           ...   \n",
            "329   59       1  0.024598   1.40050  0.024751  0.280320             2   \n",
            "330   41       1  0.100120  -0.46547  0.472370 -0.523870             1   \n",
            "331   54       1  0.753820   1.64250 -0.332850  0.857860             2   \n",
            "332   74       1  0.972510   1.42680 -0.366570 -0.107820             2   \n",
            "333   66       1  0.286380   1.39980  0.318830  0.836050             2   \n",
            "\n",
            "                          Histology ER status PR status HER2 status  \\\n",
            "0     Infiltrating Ductal Carcinoma  Positive  Positive    Negative   \n",
            "1     Infiltrating Ductal Carcinoma  Positive  Positive    Negative   \n",
            "2     Infiltrating Ductal Carcinoma  Positive  Positive    Negative   \n",
            "3     Infiltrating Ductal Carcinoma  Positive  Positive    Negative   \n",
            "4     Infiltrating Ductal Carcinoma  Positive  Positive    Positive   \n",
            "..                              ...       ...       ...         ...   \n",
            "329   Infiltrating Ductal Carcinoma  Positive  Positive    Positive   \n",
            "330   Infiltrating Ductal Carcinoma  Positive  Positive    Positive   \n",
            "331   Infiltrating Ductal Carcinoma  Positive  Positive    Negative   \n",
            "332  Infiltrating Lobular Carcinoma  Positive  Positive    Negative   \n",
            "333   Infiltrating Ductal Carcinoma  Positive  Positive    Negative   \n",
            "\n",
            "                    Surgery_type Date_of_Surgery Date_of_Last_Visit  \\\n",
            "0                          Other       20-May-18          26-Aug-18   \n",
            "1                          Other       26-Apr-18          25-Jan-19   \n",
            "2                     Lumpectomy       24-Aug-18          08-Apr-20   \n",
            "3                          Other       16-Nov-18          28-Jul-20   \n",
            "4                     Lumpectomy       12-Dec-18          05-Jan-19   \n",
            "..                           ...             ...                ...   \n",
            "329                   Lumpectomy       15-Jan-19          27-Mar-20   \n",
            "330  Modified Radical Mastectomy       25-Jul-18          23-Apr-19   \n",
            "331            Simple Mastectomy       26-Mar-19          11-Oct-19   \n",
            "332                   Lumpectomy       26-Nov-18          05-Dec-18   \n",
            "333  Modified Radical Mastectomy       04-Feb-19          10-Aug-19   \n",
            "\n",
            "     Patient_Status  \n",
            "0               1.0  \n",
            "1               0.0  \n",
            "2               1.0  \n",
            "3               1.0  \n",
            "4               1.0  \n",
            "..              ...  \n",
            "329             1.0  \n",
            "330             1.0  \n",
            "331             0.0  \n",
            "332             1.0  \n",
            "333             0.0  \n",
            "\n",
            "[334 rows x 15 columns]\n"
          ]
        }
      ]
    },
    {
      "cell_type": "code",
      "source": [
        "import pandas as pd\n",
        "\n",
        "from xgboost import XGBClassifier\n",
        "from sklearn.ensemble import GradientBoostingClassifier\n",
        "from sklearn.metrics import accuracy_score, precision_score, recall_score, f1_score\n",
        "\n",
        "\n",
        "# Train GBoost Model\n",
        "gboost_model = GradientBoostingClassifier(random_state=42)\n",
        "gboost_model.fit(X_train, y_train)\n",
        "\n",
        "# Train XGBoost Model\n",
        "xgboost_model = XGBClassifier(objective='binary:logistic', random_state=42)\n",
        "xgboost_model.fit(X_train, y_train)\n",
        "\n",
        "# Make predictions on test data\n",
        "gboost_preds = gboost_model.predict(X_test)\n",
        "xgboost_preds = xgboost_model.predict(X_test)\n",
        "\n",
        "# Evaluate model performance\n",
        "print(\"GBoost Accuracy:\", accuracy_score(y_test, gboost_preds))\n",
        "print(\"XGBoost Accuracy:\", accuracy_score(y_test, xgboost_preds))\n",
        "print(\"GBoost Precision:\", precision_score(y_test, gboost_preds))\n",
        "print(\"XGBoost Precision:\", precision_score(y_test, xgboost_preds))\n",
        "print(\"GBoost Recall:\", recall_score(y_test, gboost_preds))\n",
        "print(\"XGBoost Recall:\", recall_score(y_test, xgboost_preds))\n",
        "print(\"GBoost F1-Score:\", f1_score(y_test, gboost_preds))\n",
        "print(\"XGBoost F1-Score:\", f1_score(y_test, xgboost_preds))\n"
      ],
      "metadata": {
        "colab": {
          "base_uri": "https://localhost:8080/"
        },
        "id": "MwFAKJOtdMam",
        "outputId": "106fac03-34bb-484c-91cc-21f55481ef79"
      },
      "execution_count": 37,
      "outputs": [
        {
          "output_type": "stream",
          "name": "stdout",
          "text": [
            "GBoost Accuracy: 0.7164179104477612\n",
            "XGBoost Accuracy: 0.7313432835820896\n",
            "GBoost Precision: 0.7619047619047619\n",
            "XGBoost Precision: 0.7741935483870968\n",
            "GBoost Recall: 0.9230769230769231\n",
            "XGBoost Recall: 0.9230769230769231\n",
            "GBoost F1-Score: 0.8347826086956522\n",
            "XGBoost F1-Score: 0.8421052631578947\n"
          ]
        }
      ]
    }
  ]
}